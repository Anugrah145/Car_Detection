{
 "cells": [
  {
   "cell_type": "markdown",
   "id": "bc064977",
   "metadata": {},
   "source": [
    "# Image Segmentation with U-Net\n",
    "\n",
    "\n",
    "\n",
    "<img src=\"images/carseg.png\" style=\"width:500px;height:250;\">\n",
    "<caption><center> <u><b>Figure 1</u></b>: Example of a segmented image <br> </center></caption>"
   ]
  },
  {
   "cell_type": "code",
   "execution_count": null,
   "id": "9801e771",
   "metadata": {},
   "outputs": [],
   "source": [
    "import tensorflow as tf\n",
    "import numpy as np\n",
    "\n",
    "from tensorflow.keras.layers import Input\n",
    "from tensorflow.keras.layers import Conv2D\n",
    "from tensorflow.keras.layers import MaxPooling2D\n",
    "from tensorflow.keras.layers import Dropout \n",
    "from tensorflow.keras.layers import Conv2DTranspose\n",
    "from tensorflow.keras.layers import concatenate\n",
    "\n",
    "from test_utils import summary, comparator"
   ]
  },
  {
   "cell_type": "markdown",
   "id": "b1b0e50e",
   "metadata": {},
   "source": [
    "## Load and Split the Data"
   ]
  },
  {
   "cell_type": "code",
   "execution_count": null,
   "id": "29850582",
   "metadata": {},
   "outputs": [],
   "source": [
    "import os\n",
    "import numpy as np # linear algebra\n",
    "import pandas as pd # data processing, CSV file I/O (e.g. pd.read_csv)\n",
    "\n",
    "import imageio\n",
    "\n",
    "import matplotlib.pyplot as plt\n",
    "%matplotlib inline\n",
    "\n",
    "path = ''\n",
    "image_path = os.path.join(path, './data/CameraRGB/')\n",
    "mask_path = os.path.join(path, './data/CameraMask/')\n",
    "image_list = os.listdir(image_path)\n",
    "mask_list = os.listdir(mask_path)\n",
    "image_list = [image_path+i for i in image_list]\n",
    "mask_list = [mask_path+i for i in mask_list]"
   ]
  },
  {
   "cell_type": "code",
   "execution_count": null,
   "id": "07ddee47",
   "metadata": {},
   "outputs": [],
   "source": [
    "N = 2\n",
    "img = imageio.imread(image_list[N])\n",
    "mask = imageio.imread(mask_list[N])\n",
    "#mask = np.array([max(mask[i, j]) for i in range(mask.shape[0]) for j in range(mask.shape[1])]).reshape(img.shape[0], img.shape[1])\n",
    "\n",
    "fig, arr = plt.subplots(1, 2, figsize=(14, 10))\n",
    "arr[0].imshow(img)\n",
    "arr[0].set_title('Image')\n",
    "arr[1].imshow(mask[:, :, 0])\n",
    "arr[1].set_title('Segmentation')"
   ]
  },
  {
   "cell_type": "markdown",
   "id": "dea97346",
   "metadata": {},
   "source": [
    "### Split Your Dataset into Unmasked and Masked Images"
   ]
  },
  {
   "cell_type": "code",
   "execution_count": null,
   "id": "118ea4bd",
   "metadata": {},
   "outputs": [],
   "source": [
    "image_list_ds = tf.data.Dataset.list_files(image_list, shuffle=False)\n",
    "mask_list_ds = tf.data.Dataset.list_files(mask_list, shuffle=False)\n",
    "\n",
    "for path in zip(image_list_ds.take(3), mask_list_ds.take(3)):\n",
    "    print(path)"
   ]
  },
  {
   "cell_type": "code",
   "execution_count": null,
   "id": "4515921c",
   "metadata": {},
   "outputs": [],
   "source": [
    "image_filenames = tf.constant(image_list)\n",
    "masks_filenames = tf.constant(mask_list)\n",
    "\n",
    "dataset = tf.data.Dataset.from_tensor_slices((image_filenames, masks_filenames))\n",
    "\n",
    "for image, mask in dataset.take(1):\n",
    "    print(image)\n",
    "    print(mask)"
   ]
  },
  {
   "cell_type": "code",
   "execution_count": null,
   "id": "3a1d855c",
   "metadata": {},
   "outputs": [],
   "source": [
    "def process_path(image_path, mask_path):\n",
    "    img = tf.io.read_file(image_path)\n",
    "    img = tf.image.decode_png(img, channels=3)\n",
    "    img = tf.image.convert_image_dtype(img, tf.float32)\n",
    "\n",
    "    mask = tf.io.read_file(mask_path)\n",
    "    mask = tf.image.decode_png(mask, channels=3)\n",
    "    mask = tf.math.reduce_max(mask, axis=-1, keepdims=True)\n",
    "    return img, mask\n",
    "\n",
    "def preprocess(image, mask):\n",
    "    input_image = tf.image.resize(image, (96, 128), method='nearest')\n",
    "    input_mask = tf.image.resize(mask, (96, 128), method='nearest')\n",
    "\n",
    "    input_image = input_image / 255.\n",
    "\n",
    "    return input_image, input_mask\n",
    "\n",
    "image_ds = dataset.map(process_path)\n",
    "processed_image_ds = image_ds.map(preprocess)"
   ]
  },
  {
   "cell_type": "markdown",
   "id": "fb292cd3",
   "metadata": {},
   "source": [
    "## 3 - U-Net \n",
    "\n",
    "U-Net, named for its U-shape, was originally created in 2015 for tumor detection, but in the years since has become a very popular choice for other semantic segmentation tasks. \n",
    "\n",
    "U-Net builds on a previous architecture called the Fully Convolutional Network, or FCN, which replaces the dense layers found in a typical CNN with a transposed convolution layer that upsamples the feature map back to the size of the original input image, while preserving the spatial information. This is necessary because the dense layers destroy spatial information (the \"where\" of the image), which is an essential part of image segmentation tasks. An added bonus of using transpose convolutions is that the input size no longer needs to be fixed, as it does when dense layers are used. \n",
    "\n",
    "Unfortunately, the final feature layer of the FCN suffers from information loss due to downsampling too much. It then becomes difficult to upsample after so much information has been lost, causing an output that looks rough. \n",
    "\n",
    "U-Net improves on the FCN, using a somewhat similar design, but differing in some important ways.  Instead of one transposed convolution at the end of the network, it uses a matching number of convolutions for downsampling the input image to a feature map, and transposed convolutions for upsampling those maps back up to the original input image size. It also adds skip connections, to retain information that would otherwise become lost during encoding. Skip connections send information to every upsampling layer in the decoder from the corresponding downsampling layer in the encoder, capturing finer information while also keeping computation low. These help prevent information loss, as well as model overfitting. "
   ]
  },
  {
   "cell_type": "markdown",
   "id": "e01d0e2b",
   "metadata": {},
   "source": [
    "### 3.1 - Model Details\n",
    "\n",
    "<img src=\"images/unet.png\" style=\"width:700px;height:400;\">\n",
    "<caption><center> <u><b> Figure 2 </u></b>: U-Net Architecture<br> </center></caption>\n",
    "\n",
    "**Contracting path** (Encoder containing downsampling steps):\n",
    "\n",
    "Images are first fed through several convolutional layers which reduce height and width, while growing the number of channels.\n",
    "\n",
    "The contracting path follows a regular CNN architecture, with convolutional layers, their activations, and pooling layers to downsample the image and extract its features. In detail, it consists of the repeated application of two 3 x 3 unpadded convolutions, each followed by a rectified linear unit (ReLU) and a 2 x 2 max pooling operation with stride 2 for downsampling. At each downsampling step, the number of feature channels is doubled.\n",
    "\n",
    "**Crop function**: This step crops the image from the contracting path and concatenates it to the current image on the expanding path to create a skip connection. \n",
    "\n",
    "**Expanding path** (Decoder containing upsampling steps):\n",
    "\n",
    "The expanding path performs the opposite operation of the contracting path, growing the image back to its original size, while shrinking the channels gradually.\n",
    "\n",
    "In detail, each step in the expanding path upsamples the feature map, followed by a 2 x 2 convolution (the transposed convolution). This transposed convolution halves the number of feature channels, while growing the height and width of the image.\n",
    "\n",
    "Next is a concatenation with the correspondingly cropped feature map from the contracting path, and two 3 x 3 convolutions, each followed by a ReLU. You need to perform cropping to handle the loss of border pixels in every convolution.\n",
    "\n",
    "**Final Feature Mapping Block**: In the final layer, a 1x1 convolution is used to map each 64-component feature vector to the desired number of classes. The channel dimensions from the previous layer correspond to the number of filters used, so when you use 1x1 convolutions, you can transform that dimension by choosing an appropriate number of 1x1 filters. When this idea is applied to the last layer, you can reduce the channel dimensions to have one layer per class. \n",
    "\n",
    "The U-Net network has 23 convolutional layers in total."
   ]
  },
  {
   "cell_type": "markdown",
   "id": "5c6164c8",
   "metadata": {},
   "source": [
    "### 3.2 - Encoder (Downsampling Block) \n",
    "\n",
    "<img src=\"images/encoder.png\" style=\"width:500px;height:500;\">\n",
    "<caption><center> <u><b>Figure 3</u></b>: The U-Net Encoder up close <br> </center></caption>\n",
    "\n",
    "The encoder is a stack of various conv_blocks:\n",
    "\n",
    "Each `conv_block()` is composed of 2 **Conv2D** layers  with ReLU activations. We will apply **Dropout**, and **MaxPooling2D** to some conv_blocks, as you will verify in the following sections, specifically to the last two blocks of the downsampling. \n",
    "\n",
    "The function will  return two tensors: \n",
    "- `next_layer`: That will go into the next block. \n",
    "- `skip_connection`: That will go into the corresponding decoding block.\n",
    "\n",
    "**Note**: If `max_pooling=True`, the `next_layer` will be the output of the MaxPooling2D layer, but the `skip_connection` will be the output of the previously applied layer(Conv2D or Dropout, depending on the case). Else, both results will be identical.  \n",
    "\n",
    "<a name='ex-1'></a>"
   ]
  },
  {
   "cell_type": "code",
   "execution_count": null,
   "id": "b6117723",
   "metadata": {},
   "outputs": [],
   "source": [
    "def conv_block(inputs=None, n_filters=32, dropout_prob=0, max_pooling=True):\n",
    "\n",
    "    conv = Conv2D(n_filters, # Number of filters\n",
    "                  3,   # Kernel size   \n",
    "                  activation='relu',\n",
    "                  padding='same',\n",
    "                  kernel_initializer=tf.keras.initializers.HeNormal())(inputs)\n",
    "    conv = Conv2D(n_filters, # Number of filters\n",
    "                  3,   # Kernel size   \n",
    "                  activation='relu',\n",
    "                  padding='same',\n",
    "                  kernel_initializer=tf.keras.initializers.HeNormal())(conv)\n",
    "\n",
    "    # if dropout_prob > 0 add a dropout layer, with the variable dropout_prob as parameter\n",
    "    if dropout_prob > 0:\n",
    "        conv = tf.keras.layers.Dropout(dropout_prob)(conv)\n",
    "         \n",
    "        \n",
    "    # if max_pooling is True add a MaxPooling2D with 2x2 pool_size\n",
    "    if max_pooling:\n",
    "        next_layer = tf.keras.layers.MaxPooling2D(pool_size=(2,2))(conv)        \n",
    "    else:\n",
    "        next_layer = conv\n",
    "        \n",
    "    skip_connection = conv\n",
    "    \n",
    "    return next_layer, skip_connection"
   ]
  }
 ],
 "metadata": {
  "kernelspec": {
   "display_name": "Python 3",
   "language": "python",
   "name": "python3"
  },
  "language_info": {
   "codemirror_mode": {
    "name": "ipython",
    "version": 3
   },
   "file_extension": ".py",
   "mimetype": "text/x-python",
   "name": "python",
   "nbconvert_exporter": "python",
   "pygments_lexer": "ipython3",
   "version": "3.8.8"
  }
 },
 "nbformat": 4,
 "nbformat_minor": 5
}
